{
 "cells": [
  {
   "cell_type": "markdown",
   "metadata": {},
   "source": [
    "# Creando una REST API con Flask y sus amigos"
   ]
  },
  {
   "cell_type": "markdown",
   "metadata": {},
   "source": [
    "Bienvenidos a este nuevo tutorial (taller) impartido por la comunidad Python Nicaragua.\n",
    "\n",
    "En este taller construiremos una aplicación que \"emule\" a https://www.meetup.com\n",
    "\n",
    "Para eso usaremos el popular microframework de Python Flask y usaremos algunas otras librerías que nos ayudaran a construir una API mas o menos completa.\n",
    "\n",
    "El taller estará divido en 3 fases:\n",
    "\n",
    "1. Construiremos una API usando Flask y Python puro\n",
    "2. Construiremos una API usando Flask y SQLAlchemy\n",
    "3. Construiremos una API usando Flask, SQLAlchemy y Connexion\n",
    "\n",
    "El repositorio con todo el proyecto finalizado lo puedes encontrar aquí https://github.com/darwing1210/flask-meetup"
   ]
  },
  {
   "cell_type": "markdown",
   "metadata": {},
   "source": [
    "## Introducción"
   ]
  },
  {
   "cell_type": "markdown",
   "metadata": {},
   "source": [
    "### Qué es una REST API?\n",
    "\n",
    "Una API es un conjunto de procesos, métodos y subrutinas que cumplen una o muchas funciones con el fin de ser utilizadas por otro software (estas siglas provienen del inglés y son el acrónimo de “Application Programming Interface”, en español: “Interfaz de Programación de Aplicaciones”).\n",
    "\n",
    "REST o Representational State Transfer es un ESTILO  de Arquitectura a la hora de realizar una comunicación entre cliente y servidor, que aprovechan el protocolo HTTP para proporcionar un comportamiento CRUD (Crear, Leer, Actualizar y Eliminar) en objetos y colecciones de esas objetos. El comportamiento CRUD se correlaciona muy bien con los verbos del método del protocolo HTTP como este:\n",
    "\n",
    "|Action|HTTP Verb|Description|\n",
    "|--- |--- |--- |\n",
    "|Create|POST|Crea un nuevo objeto|\n",
    "|Read|GET|Lee la información de un objeto o una colección de objetos|\n",
    "|Update|PUT|Actualiza la información de un objeto existente|\n",
    "|Delete|DELETE|Elimina un objeto|\n"
   ]
  },
  {
   "cell_type": "markdown",
   "metadata": {},
   "source": [
    "### Qué es Flask?\n",
    "\n",
    "Flask es un microframework para crear aplicaciones web con Python. Está diseñado para que hacer aplicaciones sea rápido y fácil pero sin perder la capacidad de escalar a aplicaciones complejas.\n",
    "\n",
    "Se diferencia de Django y de otros frameworks porque no trae baterías incluídas, es decir viene con los utilidades y bibliotecas básicas para ejecutar una aplicación web, lo que hace que sea el desarrollador quien decida como hacer la arquitectura de su aplicación."
   ]
  },
  {
   "cell_type": "markdown",
   "metadata": {},
   "source": [
    "## **Manos a la obra...**\n",
    "### Qué necesitas?\n",
    "\n",
    "- Conocimiento básico de Python\n",
    "- Saber usar la consola de tu sistema operativo\n",
    "- Python 3.4+\n"
   ]
  },
  {
   "cell_type": "markdown",
   "metadata": {},
   "source": [
    "### Instalando Python\n",
    "\n",
    "Para Instalar Python puedes descargar la ultima versión (3.8) de https://www.python.org/downloads\n",
    "    \n",
    "Puedes seguir el tutorial de las DjangoGirls de como instalar Python en tu SO https://tutorial.djangogirls.org/es/python_installation/\n",
    "\n",
    "Verifica tu versión de Python ejecutando:\n",
    "\n",
    "```console\n",
    "$ python --version\n",
    "```\n",
    "\n",
    "Una vez que tengas Python instalado, crearemos un nuevo directorio y nos movemos a el:\n",
    "\n",
    "```console\n",
    "$ mkdir flask-meetup\n",
    "$ cd flask-meetup\n",
    "```\n",
    "\n",
    "Crearemos un nuevo entorno virtual:\n",
    "\n",
    "```console\n",
    "$ python -m venv venv\n",
    "```\n",
    "\n",
    "Activaremos el entorno virtual:\n",
    "\n",
    "```console\n",
    "$ source venv/bin/activate\n",
    "```\n",
    "\n",
    "en Windows como administrador:\n",
    "\n",
    "```console\n",
    "$ venv\\Scripts\\activate\n",
    "```\n",
    "\n",
    "Listo... una vez configurado el entorno virtual procederemos a instalar Flask usando el comando pip\n",
    "\n",
    "```console\n",
    "$ pip install Flask\n",
    "// o\n",
    "$ python -m pip install Flask \n",
    "```"
   ]
  },
  {
   "cell_type": "markdown",
   "metadata": {},
   "source": [
    "### Creando una aplicación básica\n",
    "\n",
    "1. Crea un nuevo archivo, nombralo `hola.py`\n",
    "2. Agrega el siguiente código"
   ]
  },
  {
   "cell_type": "markdown",
   "metadata": {},
   "source": [
    "```hola.py\n",
    "'''\n",
    "Esta es la aplicación mas sencilla que puedes hacer con Flask \n",
    "Tomado y traducido de https://palletsprojects.com/p/flask/\n",
    "'''\n",
    "\n",
    "from flask import Flask, escape, request\n",
    "\n",
    "app = Flask(__name__)\n",
    "\n",
    "@app.route('/')\n",
    "def hola():\n",
    "    nombre = request.args.get('nombre', 'mundo')\n",
    "    return f'Hola {escape(nombre)}!'\n",
    "```"
   ]
  },
  {
   "cell_type": "markdown",
   "metadata": {},
   "source": [
    "Ve a tu consola, antes de ejecutar la aplicación, necesitaremos definir una variable de entorno, para hacerlo, ejecuta:\n",
    "\n",
    "```console\n",
    "$ export FLASK_APP=hola.py\n",
    "```\n",
    "\n",
    "*En Windows ejecuta `set` en lugar de `export`\n",
    "\n",
    "Ahora que tenemos todo listo, ejecutemos nuestra aplicación:\n",
    "\n",
    "```console\n",
    "$ flask run\n",
    "* Serving Flask app \"microblog\"\n",
    "* Running on http://127.0.0.1:5000/ (Press CTRL+C to quit)\n",
    "```\n",
    "\n",
    "Abre en tu navegador http://127.0.0.1:5000/?nombre=Luis\n",
    "\n",
    "**Listo!!!** hemos concluido el taller... bromeo, esa es tu primera aplicación en Flask, así de sencillo"
   ]
  },
  {
   "cell_type": "markdown",
   "metadata": {},
   "source": [
    "#### Tip\n",
    "\n",
    "Evitemos tener que cargar las variables de entorno cada vez que cargamos nuestra terminal, una alternativa es usar **python-dotenv** el cual cargara todas nuestras variables definidas en un archivo `.env` o `.flaskenv`.\n",
    "\n",
    "Para ello ejecuta:\n",
    "\n",
    "```console\n",
    "$ pip install python-dotenv\n",
    "```\n",
    "\n",
    "y agrega tus variables de entorno al archivo `.flaskenv`\n",
    "\n",
    "```.flaskenv\n",
    "# Agrega aquí las variables de entorno\n",
    "FLASK_APP=hola.py\n",
    "```"
   ]
  },
  {
   "cell_type": "markdown",
   "metadata": {},
   "source": [
    "## Parte 1: Aplicación usando Python puro"
   ]
  },
  {
   "cell_type": "markdown",
   "metadata": {},
   "source": [
    "Crearemos un nuevo módulo (una nueva app), para ello crearemos un nuevo folder, lo llamaremos `meetup_app`\n",
    "y dentro de el, agregaremos un archivo `__init__.py`, en este archivo crearemos una función para inicializar\n",
    "nuestra app.\n",
    "\n",
    "el código inicial debería lucir así:\n",
    "    \n",
    "```__init__.py\n",
    "from flask import Flask\n",
    "\n",
    "\n",
    "def crear_app(configuracion):\n",
    "    app = Flask(__name__)\n",
    "\n",
    "    return app\n",
    "\n",
    "```"
   ]
  },
  {
   "cell_type": "markdown",
   "metadata": {},
   "source": [
    "Necesitamos agregar algunas configuraciones para nuestro proyecto, esto lo podemos hacer ya sea con una clase\n",
    "o con un diccionario, en nuestro caso usaremos una clase definida en un nuevo archivo `config.py`\n",
    "\n",
    "```config.py\n",
    "# Configuraciones de nuestra aplicación\n",
    "import os\n",
    "\n",
    "class Config(object):\n",
    "    '''Configuración principal.'''\n",
    "    DEBUG = False\n",
    "    CSRF_ENABLED = True\n",
    "    SQLALCHEMY_DATABASE_URI = os.getenv('DATABASE_URL')\n",
    "\n",
    "\n",
    "class DevConfig(Config):\n",
    "    '''Configuraciones para desarrollo.'''\n",
    "    DEBUG = True\n",
    "\n",
    "\n",
    "app_config = {\n",
    "    'development': DevConfig,\n",
    "    # 'testing': TestingConfig,\n",
    "    # 'staging': StagingConfig,\n",
    "    # 'production': ProductionConfig,\n",
    "}\n",
    "```"
   ]
  },
  {
   "cell_type": "markdown",
   "metadata": {},
   "source": [
    "Para cargar estas configuraciones en nuestra app, necesitamos importar el mapa de configuraciones en `__init__.py`\n",
    "\n",
    "```\n",
    "from meetup_app.config import app_config\n",
    "```\n",
    "\n",
    "y cargarlas en nuestra app dentro de la función `crear_app`, usando:\n",
    "\n",
    "```\n",
    "app.config.from_object(app_config[configuracion])\n",
    "```\n",
    "\n",
    "El archivo final luce así:\n",
    "\n",
    "```__init__.py\n",
    "# Inicializando configuración\n",
    "from meetup_app.config import app_config\n",
    "\n",
    "from flask import Flask\n",
    "\n",
    "\n",
    "def crear_app(configuracion):\n",
    "    app = Flask(__name__)\n",
    "    app.config.from_object(app_config[configuracion])\n",
    "\n",
    "    return app\n",
    "\n",
    "```"
   ]
  },
  {
   "cell_type": "markdown",
   "metadata": {},
   "source": [
    "Una vez cargadas las configuraciones, necesitamos ejecutar la aplicación, pero no lo háremos desde este modulo,\n",
    "sino que crearemos uno llamado `run.py` el cual cargara la aplicación creando una nueva instancia de esta.\n",
    "El archivo luce así: \n",
    "\n",
    "```run.py\n",
    "import os\n",
    "\n",
    "from meetup_app import crear_app\n",
    "\n",
    "configuracion = os.getenv('FLASK_ENV') # configuracion = 'development'\n",
    "\n",
    "app = crear_app(configuracion)\n",
    "\n",
    "if __name__ == '__main__':\n",
    "    app.run()\n",
    "```"
   ]
  },
  {
   "cell_type": "markdown",
   "metadata": {},
   "source": [
    "Para ejecutar recuerda o definir las variables de entorno de la siguiente manera o crear un archivo \n",
    "de variables de entorno `.flaskenv`:\n",
    "    \n",
    "```.flaskenv\n",
    "# Agrega aquí las variables de entorno\n",
    "FLASK_APP=run.py\n",
    "FLASK_ENV=development\n",
    "```"
   ]
  },
  {
   "cell_type": "markdown",
   "metadata": {},
   "source": [
    "Ahora ejecuta el app con `flask run` notaras un par de cosas interesantes:\n",
    "\n",
    "```console\n",
    "$ flask run\n",
    " * Serving Flask app \"run.py\" (lazy loading)\n",
    " * Environment: development\n",
    " * Debug mode: on\n",
    " * Running on http://127.0.0.1:5000/ (Press CTRL+C to quit)\n",
    " * Restarting with stat\n",
    " * Debugger is active!\n",
    " * Debugger PIN: 202-965-352\n",
    "```\n",
    "\n",
    "El app corre desde las configuraciones de desarrollo y el modo debug esta activado, lo cual nos ayudara a entender mejor los errores cuando estos aparezcan. (y también tienes autoreload)"
   ]
  },
  {
   "cell_type": "markdown",
   "metadata": {},
   "source": [
    "### Agregando controladores/vistas\n",
    "\n",
    "Pero que sucede?, nuestra app no hace nada aun, para ello debemos registrar urls y controladores.\n",
    "\n",
    "Agregaremos un nuevo modulo llamado `controllers.py` en el que registraremos nuestras urls y definiremos los controladores.\n",
    "\n",
    "Para poder registrar urls fuera de el módulo principal, necesitamos definir un `Blueprint` el cual no es mas que una guía para que el app pueda traducir urls basadas en el path y métodos aceptados por la url.\n",
    "\n",
    "Debemos importarlo así `from flask import Blueprint` y luego creamos una instancia de `Blueprint`, le llamaremos `urls`\n",
    "\n",
    "```.py\n",
    "from flask import Blueprint\n",
    "urls = Blueprint('urls', __name__)\n",
    "```\n",
    "\n",
    "Una vez creada la instancia del Blueprint urls podremos registrar nuestros controladores de la siguiente manera:\n",
    "\n",
    "```.py\n",
    "from flask import escape, request\n",
    "...\n",
    "@urls.route('/')\n",
    "def hola():\n",
    "    nombre = request.args.get('nombre', 'mundo')\n",
    "    return f'Hola {escape(nombre)}!'\n",
    "```"
   ]
  },
  {
   "cell_type": "markdown",
   "metadata": {},
   "source": [
    "### Cargando una plantilla\n",
    "\n",
    "Con Flask podemos renderizar una plantilla HTML usando Jinja2, para ello requerimos crear una carpeta llamada `templates/` e incluir los archivos HTML, en esta caso crearemos uno llamado `bienvenidos.html` y agregaremos el siguiente contenido:\n",
    "\n",
    "```bienvenidos.html\n",
    "<!DOCTYPE html>\n",
    "<html>\n",
    "<head>\n",
    "\t<title>Bienvenidos</title>\n",
    "</head>\n",
    "<body style=\"background-color: black; text-align: center\">\n",
    "\t<h1 style=\"color: white\">Hola a todos, Bienvenidos al taller de Flask</h1>\n",
    "</body>\n",
    "</html>\n",
    "```\n",
    "\n",
    "Necesitmos definir un nuevo controlador y una nueva url para cargar el contenido:\n",
    "\n",
    "```.py\n",
    "from flask import render_template\n",
    "...\n",
    "@urls.route('/bienvenidos')\n",
    "def bienvenidos():\n",
    "    return render_template('bienvenidos.html')\n",
    "```"
   ]
  },
  {
   "cell_type": "markdown",
   "metadata": {},
   "source": [
    "### TODO\n",
    "\n",
    "- Explicar cada método dentro de controllers.py"
   ]
  },
  {
   "cell_type": "markdown",
   "metadata": {},
   "source": [
    "## Parte 2: Usando una Base de datos y SQLAlchemy"
   ]
  },
  {
   "cell_type": "markdown",
   "metadata": {},
   "source": [
    "### TODO\n",
    "\n",
    "- Explicar como instalar flask-sqlalchemy y flask-migrate (para que sirven)\n",
    "- Actualizar `__init__.py` con las extenciones\n",
    "- Inicializar Flask Migrate `flask db init`\n",
    "- Crear archivo de modelos, crear modelo User\n",
    "- Importar modelos en `__init__.py`\n",
    "- Generar migración de User\n",
    "- Aplicar migración\n",
    "- Crar modelo Evento\n",
    "- Generar y Aplicar migración de Evento\n",
    "- Explicar relación many to many y tabla intermedia\n",
    "- Explicar el to_dict() de los modelos\n",
    "- Actualizar controladores para que usen los modelos Evento\n",
    "- Evitar dolores de cabeza con fechas instalando `pip install python-dateutil`\n",
    "- Ver BD en https://sqlitebrowser.org/dl/\n",
    "- Crear controlador para registrar usuario\n",
    "- Instalar flask-httpauth `$ pip install flask-httpauth`\n",
    "- Configurar HTTPBasicAuth para los endpoints de registrarse a eventos\n",
    "- Explicar el método `verify_password`\n",
    "- Explicar que es g\n",
    "- Cargar `auth` en controllers\n",
    "- Crear controladores para unirse/salirse de evento\n",
    "- Explicar la necesidad de connexion (parsers, validators, etc)\n",
    "- Explicar como configurar app con conexion\n",
    "- Crear swagger.yml, primero Definiciones, luego rutas\n",
    "- Actualizar Controllers para que usen los parametros de connexion"
   ]
  },
  {
   "cell_type": "code",
   "execution_count": null,
   "metadata": {},
   "outputs": [],
   "source": []
  }
 ],
 "metadata": {
  "kernelspec": {
   "display_name": "Python 3",
   "language": "python",
   "name": "python3"
  },
  "language_info": {
   "codemirror_mode": {
    "name": "ipython",
    "version": 3
   },
   "file_extension": ".py",
   "mimetype": "text/x-python",
   "name": "python",
   "nbconvert_exporter": "python",
   "pygments_lexer": "ipython3",
   "version": "3.7.4"
  }
 },
 "nbformat": 4,
 "nbformat_minor": 2
}
